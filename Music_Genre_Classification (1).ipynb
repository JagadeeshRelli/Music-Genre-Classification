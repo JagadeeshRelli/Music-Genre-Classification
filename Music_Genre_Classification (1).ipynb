{
  "cells": [
    {
      "cell_type": "markdown",
      "metadata": {
        "id": "Gr47M12At6BU"
      },
      "source": [
        ""
      ]
    },
    {
      "cell_type": "markdown",
      "source": [
        "#**MUSIC GENRE CLASSIFICATION**"
      ],
      "metadata": {
        "id": "jqkSUfUmr3ZF"
      }
    },
    {
      "cell_type": "code",
      "source": [
        ""
      ],
      "metadata": {
        "id": "LbLAtYS40Rkp"
      },
      "execution_count": null,
      "outputs": []
    },
    {
      "cell_type": "code",
      "execution_count": 1,
      "metadata": {
        "id": "KtGfPK9sYSm1"
      },
      "outputs": [],
      "source": [
        "#importing required packages\n",
        "\n",
        "import os\n",
        "import numpy as np\n",
        "import pandas as pd\n",
        "import scipy\n",
        "import librosa\n"
      ]
    },
    {
      "cell_type": "markdown",
      "source": [
        "##importing dataset GTZAN"
      ],
      "metadata": {
        "id": "Ef8e_UYssnkC"
      }
    },
    {
      "cell_type": "code",
      "execution_count": 3,
      "metadata": {
        "colab": {
          "base_uri": "https://localhost:8080/"
        },
        "id": "GHCs4Z3IYTFX",
        "outputId": "252fd5fe-7cbe-45f0-99c8-049e79da77a2"
      },
      "outputs": [
        {
          "output_type": "stream",
          "name": "stdout",
          "text": [
            "['jazz', 'disco', 'reggae', 'country', 'rock', 'hiphop', 'blues', 'classical', 'metal', 'pop'] 10\n"
          ]
        }
      ],
      "source": [
        "#specifying the dataset path for further processing\n",
        "\n",
        "WAV_DIR = '/content/drive/MyDrive/gtzan/Data/genres_original'\n",
        "wav_files = os.listdir(WAV_DIR)\n",
        "print(wav_files, len(wav_files))"
      ]
    },
    {
      "cell_type": "markdown",
      "source": [
        "##Feature Extraction"
      ],
      "metadata": {
        "id": "yuuNaLTJsjR1"
      }
    },
    {
      "cell_type": "code",
      "execution_count": null,
      "metadata": {
        "id": "Yx3mOrDGaFlu"
      },
      "outputs": [],
      "source": [
        ""
      ]
    },
    {
      "cell_type": "code",
      "execution_count": 4,
      "metadata": {
        "id": "OpJxfXxxehuq",
        "colab": {
          "base_uri": "https://localhost:8080/"
        },
        "outputId": "537f522f-69f9-4ff0-86e0-5f2efe5f732b"
      },
      "outputs": [
        {
          "output_type": "stream",
          "name": "stdout",
          "text": [
            "Empty DataFrame\n",
            "Columns: [file_name, genre name, zcr_mean, zcr_std, spectral_centroid_mean, spectral_centroid_std, spectral_rolloff_mean, spectral_rolloff_std, mfccs_1_mean, mfccs_2_mean, mfccs_3_mean, mfccs_4_mean, mfccs_5_mean, mfccs_6_mean, mfccs_7_mean, mfccs_8_mean, mfccs_9_mean, mfccs_10_mean, mfccs_11_mean, mfccs_12_mean, mfccs_13_mean, mfccs_14_mean, mfccs_15_mean, mfccs_16_mean, mfccs_17_mean, mfccs_18_mean, mfccs_19_mean, mfccs_20_mean, mfccs_1_std, mfccs_2_std, mfccs_3_std, mfccs_4_std, mfccs_5_std, mfccs_6_std, mfccs_7_std, mfccs_8_std, mfccs_9_std, mfccs_10_std, mfccs_11_std, mfccs_12_std, mfccs_13_std, mfccs_14_std, mfccs_15_std, mfccs_16_std, mfccs_17_std, mfccs_18_std, mfccs_19_std, mfccs_20_std]\n",
            "Index: []\n",
            "\n",
            "[0 rows x 48 columns]\n"
          ]
        }
      ],
      "source": [
        "\n",
        "# creating predefined col name , which process through pandas dataframe, for feature extraction purpose\n",
        "\n",
        "\n",
        "col_names = ['file_name', 'genre name','zcr_mean', 'zcr_std',\n",
        "             'spectral_centroid_mean', 'spectral_centroid_std'] +\\\n",
        "                     ['spectral_rolloff_mean', 'spectral_rolloff_std'] + \\\n",
        "            ['mfccs_' + str(i+1) + '_mean' for i in range(20)] + \\\n",
        "            ['mfccs_' + str(i+1) + '_std' for i in range(20)] \n",
        "dfppt= pd.DataFrame(columns=col_names)\n",
        "print(dfppt)\n",
        "\n"
      ]
    },
    {
      "cell_type": "code",
      "execution_count": 18,
      "metadata": {
        "id": "UldsXjuXeUiM",
        "colab": {
          "base_uri": "https://localhost:8080/"
        },
        "outputId": "eb9fac82-7dab-42dd-f5ed-d358b73a68ec"
      },
      "outputs": [
        {
          "output_type": "stream",
          "name": "stderr",
          "text": [
            "/usr/local/lib/python3.7/dist-packages/librosa/core/audio.py:165: UserWarning: PySoundFile failed. Trying audioread instead.\n",
            "  warnings.warn(\"PySoundFile failed. Trying audioread instead.\")\n"
          ]
        },
        {
          "output_type": "stream",
          "name": "stdout",
          "text": [
            "(<class 'audioread.exceptions.NoBackendError'>, NoBackendError(), <traceback object at 0x7f83dc57b4b0>)\n",
            "           file_name genre name zcr_mean zcr_std spectral_centroid_mean  \\\n",
            "0     jazz.00002.wav       jazz    0.058    0.03               1027.444   \n",
            "1     jazz.00000.wav       jazz    0.078   0.049                 1434.3   \n",
            "2     jazz.00005.wav       jazz    0.058    0.03                1228.79   \n",
            "3     jazz.00004.wav       jazz    0.048   0.023               1002.328   \n",
            "4     jazz.00003.wav       jazz    0.045   0.014                768.097   \n",
            "...              ...        ...      ...     ...                    ...   \n",
            "2995   pop.00097.wav        pop    0.137   0.142               3482.045   \n",
            "2996   pop.00091.wav        pop    0.167   0.099               3676.932   \n",
            "2997   pop.00095.wav        pop    0.106   0.066               3032.248   \n",
            "2998   pop.00096.wav        pop    0.105   0.064               3105.976   \n",
            "2999   pop.00090.wav        pop    0.148   0.088               3578.279   \n",
            "\n",
            "     spectral_centroid_std spectral_rolloff_mean spectral_rolloff_std  \\\n",
            "0                  404.982               1857.21              708.514   \n",
            "1                  755.763              2709.303             1652.678   \n",
            "2                  536.889              2422.344             1369.163   \n",
            "3                  343.993              1773.425              948.571   \n",
            "4                  302.496              1353.011              601.614   \n",
            "...                    ...                   ...                  ...   \n",
            "2995              1502.242              7558.029             2076.788   \n",
            "2996               875.567              7853.191             1249.462   \n",
            "2997               984.001              7365.888             1888.602   \n",
            "2998               1136.39              6905.072             1967.578   \n",
            "2999               967.319               7936.01             1281.179   \n",
            "\n",
            "     mfccs_1_mean mfccs_2_mean  ... mfccs_11_std mfccs_12_std mfccs_13_std  \\\n",
            "0        -256.959      175.359  ...        9.955         8.43         7.59   \n",
            "1        -252.073      137.903  ...         6.56        7.686        6.618   \n",
            "2        -246.235      120.193  ...       11.471       13.588       14.408   \n",
            "3        -270.264      137.613  ...        7.552        9.082        8.797   \n",
            "4         -297.32      193.097  ...        7.149       10.045        8.526   \n",
            "...           ...          ...  ...          ...          ...          ...   \n",
            "2995     -125.479       51.225  ...        9.268        9.137        8.267   \n",
            "2996        -8.41       42.045  ...        8.103        8.038        7.295   \n",
            "2997      -36.625        73.06  ...         9.33        8.798         8.36   \n",
            "2998      -59.029       60.986  ...        8.801        8.038       10.011   \n",
            "2999      -44.715        55.05  ...        8.651        6.745         8.31   \n",
            "\n",
            "     mfccs_14_std mfccs_15_std mfccs_16_std mfccs_17_std mfccs_18_std  \\\n",
            "0           8.967        8.381        6.322        7.399        6.762   \n",
            "1           6.418        6.999        7.093        6.414        7.464   \n",
            "2          14.893        16.16       15.137       20.151       18.246   \n",
            "3           8.884        9.927       12.763       13.457       12.739   \n",
            "4           7.184        6.419        6.878        7.389        6.233   \n",
            "...           ...          ...          ...          ...          ...   \n",
            "2995        7.422        7.495        8.216        8.393        8.529   \n",
            "2996        6.322        7.482        7.428         8.68        9.043   \n",
            "2997        8.096        7.075        7.829        8.476        8.535   \n",
            "2998       11.364       10.521       13.133       10.988       10.355   \n",
            "2999        7.204         7.37        7.286        7.424        7.559   \n",
            "\n",
            "     mfccs_19_std mfccs_20_std  \n",
            "0           6.437        8.568  \n",
            "1           7.072        7.064  \n",
            "2          13.894       14.591  \n",
            "3          19.828       21.744  \n",
            "4           7.073        7.505  \n",
            "...           ...          ...  \n",
            "2995        8.641       10.852  \n",
            "2996        9.454        8.117  \n",
            "2997        8.713        9.031  \n",
            "2998       11.313       10.543  \n",
            "2999        7.884        6.431  \n",
            "\n",
            "[3000 rows x 48 columns]\n"
          ]
        }
      ],
      "source": [
        "\n",
        " #doing feature extraction for only ppt mentioned features\n",
        "\n",
        "#working m feature extraction and saving it in csvfile\n",
        "\n",
        "\n",
        "\n",
        "\n",
        "#Humans can detect sounds in a frequency range from about 20 Hz to 20 kHz.\n",
        "#The sampling rate you use is directly related to the range of frequencies you can sample.\n",
        "# With a sampling rate of 44,100 Hz, the highest frequency you can sample is 22,050 Hz. But if 20,000 Hz is the \n",
        "#upper limit of human hearing, why would you ever need to sample a frequency higher than that? \n",
        "#And why do we have digital systems able to work at sampling rates as high as 192,000 Hz?\n",
        "#thats why sr is taken as 22050\n",
        "import sys\n",
        "import os\n",
        "from fnmatch import fnmatch\n",
        "#import IPython.display as ipd\n",
        "\n",
        "root = '/content/drive/MyDrive/gtzan/Data/genres_original/'\n",
        "pattern = \"*.wav\"\n",
        "cnt=0\n",
        "#print(root)\n",
        "#print(type(root))\n",
        "ii=0\n",
        "#to iterate through every file in subfolder\n",
        "for path, subdirs, files in os.walk(root):\n",
        "    for name in files:\n",
        "        #if(cnt==10):\n",
        "          #break\n",
        "        if fnmatch(name, pattern):\n",
        "            xx=os.path.join(path, name)\n",
        "            #print(xx)\n",
        "            \n",
        "            try:\n",
        "        # Read wav-file\n",
        "              y, sr = librosa.load(xx, sr = 22050)\n",
        "\n",
        "              feature_list = [name]\n",
        "              temp=name.split('.')\n",
        "              feature_list.append(temp[0])\n",
        "              #print(temp)\n",
        "              #print(type(temp[0]))\n",
        "              #print(type(feature_list[0]))\n",
        "\n",
        "              \n",
        "              zcr = librosa.feature.zero_crossing_rate(y + 0.0001, frame_length=2048, hop_length=512)[0]\n",
        "              feature_list.append(np.mean(zcr))\n",
        "              feature_list.append(np.std(zcr))\n",
        "\n",
        "              \n",
        "              spectral_centroids = librosa.feature.spectral_centroid(y+0.01, sr=sr)[0]\n",
        "              feature_list.append(np.mean(spectral_centroids))\n",
        "              feature_list.append(np.std(spectral_centroids))\n",
        "\n",
        "              \n",
        "              spectral_rolloff = librosa.feature.spectral_rolloff(y+0.01, sr=sr, roll_percent = 0.85)[0]\n",
        "              feature_list.append(np.mean(spectral_rolloff))\n",
        "              feature_list.append(np.std(spectral_rolloff))\n",
        "\n",
        "              mfccs = librosa.feature.mfcc(y, sr=sr, n_mfcc=20)\n",
        "              feature_list.extend(np.mean(mfccs, axis=1))\n",
        "              feature_list.extend(np.std(mfccs, axis=1))\n",
        "\n",
        "              \n",
        "              feature_list[2:] = np.round(feature_list[2:], decimals=3)\n",
        "              cnt+=1 \n",
        "              #print(feature_list)\n",
        "              #if(cnt==10):\n",
        "                #break\n",
        "\n",
        "            except:\n",
        "                e=sys.exc_info()\n",
        "                print(e)\n",
        "            dfppt = dfppt.append(pd.DataFrame(feature_list, index=col_names).transpose(), ignore_index=True)\n",
        "print(dfppt)\n",
        "# Save file\n",
        "dfppt.to_csv('dfppt_features.csv', index=False)\n",
        "\n"
      ]
    },
    {
      "cell_type": "code",
      "source": [
        "\n",
        "dfppt = pd.read_csv(r'/content/drive/MyDrive/dfppt_featuress.csv')\n",
        "print (dfppt)"
      ],
      "metadata": {
        "colab": {
          "base_uri": "https://localhost:8080/"
        },
        "id": "hrDnfonQGfwz",
        "outputId": "b240bebb-b2bf-4596-9208-a8da056bde41"
      },
      "execution_count": 13,
      "outputs": [
        {
          "output_type": "stream",
          "name": "stdout",
          "text": [
            "          file_name genre name  zcr_mean  zcr_std  spectral_centroid_mean  \\\n",
            "0    jazz.00002.wav       jazz     0.058    0.030                1027.444   \n",
            "1    jazz.00000.wav       jazz     0.078    0.049                1434.300   \n",
            "2    jazz.00005.wav       jazz     0.058    0.030                1228.790   \n",
            "3    jazz.00004.wav       jazz     0.048    0.023                1002.328   \n",
            "4    jazz.00003.wav       jazz     0.045    0.014                 768.097   \n",
            "..              ...        ...       ...      ...                     ...   \n",
            "995   pop.00097.wav        pop     0.137    0.142                3482.045   \n",
            "996   pop.00091.wav        pop     0.167    0.099                3676.932   \n",
            "997   pop.00095.wav        pop     0.106    0.066                3032.248   \n",
            "998   pop.00096.wav        pop     0.105    0.064                3105.976   \n",
            "999   pop.00090.wav        pop     0.148    0.088                3578.279   \n",
            "\n",
            "     spectral_centroid_std  spectral_rolloff_mean  spectral_rolloff_std  \\\n",
            "0                  404.982               1857.210               708.514   \n",
            "1                  755.763               2709.303              1652.678   \n",
            "2                  536.889               2422.344              1369.163   \n",
            "3                  343.993               1773.425               948.571   \n",
            "4                  302.496               1353.011               601.614   \n",
            "..                     ...                    ...                   ...   \n",
            "995               1502.242               7558.029              2076.788   \n",
            "996                875.567               7853.191              1249.462   \n",
            "997                984.001               7365.888              1888.602   \n",
            "998               1136.390               6905.072              1967.578   \n",
            "999                967.319               7936.010              1281.179   \n",
            "\n",
            "     mfccs_1_mean  mfccs_2_mean  ...  mfccs_11_std  mfccs_12_std  \\\n",
            "0        -256.959       175.359  ...         9.955         8.430   \n",
            "1        -252.073       137.903  ...         6.560         7.686   \n",
            "2        -246.235       120.193  ...        11.471        13.588   \n",
            "3        -270.264       137.613  ...         7.552         9.082   \n",
            "4        -297.320       193.097  ...         7.149        10.045   \n",
            "..            ...           ...  ...           ...           ...   \n",
            "995      -125.479        51.225  ...         9.268         9.137   \n",
            "996        -8.410        42.045  ...         8.103         8.038   \n",
            "997       -36.625        73.060  ...         9.330         8.798   \n",
            "998       -59.029        60.986  ...         8.801         8.038   \n",
            "999       -44.715        55.050  ...         8.651         6.745   \n",
            "\n",
            "     mfccs_13_std  mfccs_14_std  mfccs_15_std  mfccs_16_std  mfccs_17_std  \\\n",
            "0           7.590         8.967         8.381         6.322         7.399   \n",
            "1           6.618         6.418         6.999         7.093         6.414   \n",
            "2          14.408        14.893        16.160        15.137        20.151   \n",
            "3           8.797         8.884         9.927        12.763        13.457   \n",
            "4           8.526         7.184         6.419         6.878         7.389   \n",
            "..            ...           ...           ...           ...           ...   \n",
            "995         8.267         7.422         7.495         8.216         8.393   \n",
            "996         7.295         6.322         7.482         7.428         8.680   \n",
            "997         8.360         8.096         7.075         7.829         8.476   \n",
            "998        10.011        11.364        10.521        13.133        10.988   \n",
            "999         8.310         7.204         7.370         7.286         7.424   \n",
            "\n",
            "     mfccs_18_std  mfccs_19_std  mfccs_20_std  \n",
            "0           6.762         6.437         8.568  \n",
            "1           7.464         7.072         7.064  \n",
            "2          18.246        13.894        14.591  \n",
            "3          12.739        19.828        21.744  \n",
            "4           6.233         7.073         7.505  \n",
            "..            ...           ...           ...  \n",
            "995         8.529         8.641        10.852  \n",
            "996         9.043         9.454         8.117  \n",
            "997         8.535         8.713         9.031  \n",
            "998        10.355        11.313        10.543  \n",
            "999         7.559         7.884         6.431  \n",
            "\n",
            "[1000 rows x 48 columns]\n"
          ]
        }
      ]
    },
    {
      "cell_type": "markdown",
      "source": [
        "##splitting the dataset"
      ],
      "metadata": {
        "id": "n4XRqgL4s6Fw"
      }
    },
    {
      "cell_type": "code",
      "execution_count": 14,
      "metadata": {
        "colab": {
          "base_uri": "https://localhost:8080/"
        },
        "id": "RT1CFCmzrDfT",
        "outputId": "a7c8da72-5a01-43e1-977a-bc05d9fbde52"
      },
      "outputs": [
        {
          "output_type": "stream",
          "name": "stdout",
          "text": [
            "     zcr_mean  zcr_std  spectral_centroid_mean  spectral_centroid_std  \\\n",
            "0       0.058    0.030                1027.444                404.982   \n",
            "1       0.078    0.049                1434.300                755.763   \n",
            "2       0.058    0.030                1228.790                536.889   \n",
            "3       0.048    0.023                1002.328                343.993   \n",
            "4       0.045    0.014                 768.097                302.496   \n",
            "..        ...      ...                     ...                    ...   \n",
            "995     0.137    0.142                3482.045               1502.242   \n",
            "996     0.167    0.099                3676.932                875.567   \n",
            "997     0.106    0.066                3032.248                984.001   \n",
            "998     0.105    0.064                3105.976               1136.390   \n",
            "999     0.148    0.088                3578.279                967.319   \n",
            "\n",
            "     spectral_rolloff_mean  spectral_rolloff_std  mfccs_1_mean  mfccs_2_mean  \\\n",
            "0                 1857.210               708.514      -256.959       175.359   \n",
            "1                 2709.303              1652.678      -252.073       137.903   \n",
            "2                 2422.344              1369.163      -246.235       120.193   \n",
            "3                 1773.425               948.571      -270.264       137.613   \n",
            "4                 1353.011               601.614      -297.320       193.097   \n",
            "..                     ...                   ...           ...           ...   \n",
            "995               7558.029              2076.788      -125.479        51.225   \n",
            "996               7853.191              1249.462        -8.410        42.045   \n",
            "997               7365.888              1888.602       -36.625        73.060   \n",
            "998               6905.072              1967.578       -59.029        60.986   \n",
            "999               7936.010              1281.179       -44.715        55.050   \n",
            "\n",
            "     mfccs_3_mean  mfccs_4_mean  ...  mfccs_11_std  mfccs_12_std  \\\n",
            "0         -44.822        25.651  ...         9.955         8.430   \n",
            "1         -11.131         8.365  ...         6.560         7.686   \n",
            "2          -0.966        30.690  ...        11.471        13.588   \n",
            "3           5.668        42.459  ...         7.552         9.082   \n",
            "4          10.209        -1.628  ...         7.149        10.045   \n",
            "..            ...           ...  ...           ...           ...   \n",
            "995        38.499        14.488  ...         9.268         9.137   \n",
            "996         8.257        17.972  ...         8.103         8.038   \n",
            "997        39.158        20.333  ...         9.330         8.798   \n",
            "998        27.740        23.846  ...         8.801         8.038   \n",
            "999        27.163        19.509  ...         8.651         6.745   \n",
            "\n",
            "     mfccs_13_std  mfccs_14_std  mfccs_15_std  mfccs_16_std  mfccs_17_std  \\\n",
            "0           7.590         8.967         8.381         6.322         7.399   \n",
            "1           6.618         6.418         6.999         7.093         6.414   \n",
            "2          14.408        14.893        16.160        15.137        20.151   \n",
            "3           8.797         8.884         9.927        12.763        13.457   \n",
            "4           8.526         7.184         6.419         6.878         7.389   \n",
            "..            ...           ...           ...           ...           ...   \n",
            "995         8.267         7.422         7.495         8.216         8.393   \n",
            "996         7.295         6.322         7.482         7.428         8.680   \n",
            "997         8.360         8.096         7.075         7.829         8.476   \n",
            "998        10.011        11.364        10.521        13.133        10.988   \n",
            "999         8.310         7.204         7.370         7.286         7.424   \n",
            "\n",
            "     mfccs_18_std  mfccs_19_std  mfccs_20_std  \n",
            "0           6.762         6.437         8.568  \n",
            "1           7.464         7.072         7.064  \n",
            "2          18.246        13.894        14.591  \n",
            "3          12.739        19.828        21.744  \n",
            "4           6.233         7.073         7.505  \n",
            "..            ...           ...           ...  \n",
            "995         8.529         8.641        10.852  \n",
            "996         9.043         9.454         8.117  \n",
            "997         8.535         8.713         9.031  \n",
            "998        10.355        11.313        10.543  \n",
            "999         7.559         7.884         6.431  \n",
            "\n",
            "[1000 rows x 46 columns]\n",
            "     zcr_mean  zcr_std  spectral_centroid_mean  spectral_centroid_std  \\\n",
            "942     0.144    0.076                2980.974                887.166   \n",
            "962     0.112    0.087                2934.196               1165.944   \n",
            "237     0.026    0.019                1250.522                709.778   \n",
            "914     0.121    0.089                2864.722                984.751   \n",
            "301     0.107    0.042                2785.182                594.363   \n",
            "..        ...      ...                     ...                    ...   \n",
            "952     0.136    0.091                3477.507               1167.596   \n",
            "643     0.098    0.043                2317.004                452.577   \n",
            "249     0.102    0.082                2593.719               1303.704   \n",
            "664     0.103    0.044                2015.859                467.737   \n",
            "874     0.054    0.026                1734.710                425.673   \n",
            "\n",
            "     spectral_rolloff_mean  spectral_rolloff_std  mfccs_1_mean  mfccs_2_mean  \\\n",
            "942               6419.559              1802.044       -37.038        68.895   \n",
            "962               6050.380              2242.469       -65.119        65.452   \n",
            "237               2483.754              2213.949      -300.498        99.233   \n",
            "914               6400.815              1712.842       -52.444        74.046   \n",
            "301               6204.811              1342.949       -23.067        70.262   \n",
            "..                     ...                   ...           ...           ...   \n",
            "952               7642.555              1775.678       -46.830        55.894   \n",
            "643               5205.997               746.556      -159.552        69.798   \n",
            "249               5537.622              2704.060      -182.202        83.477   \n",
            "664               4047.451               920.067       -57.920       108.990   \n",
            "874               4100.951               880.016      -111.650       111.158   \n",
            "\n",
            "     mfccs_3_mean  mfccs_4_mean  ...  mfccs_11_std  mfccs_12_std  \\\n",
            "942        10.493        23.943  ...         7.216         7.346   \n",
            "962         4.109        32.741  ...         9.831         8.168   \n",
            "237        53.056        43.242  ...         8.911         8.940   \n",
            "914        12.740        24.480  ...         7.758         6.921   \n",
            "301         3.814        28.326  ...         8.557         6.470   \n",
            "..            ...           ...  ...           ...           ...   \n",
            "952        26.079        16.544  ...        11.060         9.046   \n",
            "643        -4.399        76.847  ...         8.508         6.385   \n",
            "249         4.897        12.708  ...         9.988         7.980   \n",
            "664       -36.208        64.046  ...         7.837         7.986   \n",
            "874       -10.658        69.705  ...         6.170         6.959   \n",
            "\n",
            "     mfccs_13_std  mfccs_14_std  mfccs_15_std  mfccs_16_std  mfccs_17_std  \\\n",
            "942         7.021         7.158         7.141         7.799         8.930   \n",
            "962         8.777         8.174         7.570         8.182         8.591   \n",
            "237         7.847         6.452         8.628         7.177         7.170   \n",
            "914         6.349         7.050         5.710         6.516         7.787   \n",
            "301         7.912         7.118         7.203         8.282         7.369   \n",
            "..            ...           ...           ...           ...           ...   \n",
            "952         8.828         9.426         7.468         9.542         9.128   \n",
            "643         8.912         8.885         8.196         9.053         8.206   \n",
            "249         8.552         8.986         8.134         7.686         7.966   \n",
            "664         6.539         7.691         6.170         6.507         5.780   \n",
            "874         6.697         6.411         6.354         5.917         7.219   \n",
            "\n",
            "     mfccs_18_std  mfccs_19_std  mfccs_20_std  \n",
            "942        10.538         9.276         7.701  \n",
            "962         7.233         9.195         9.315  \n",
            "237         5.305         7.231         7.119  \n",
            "914         7.317         7.395         9.438  \n",
            "301         8.622         8.282         8.580  \n",
            "..            ...           ...           ...  \n",
            "952        10.089         8.940        10.063  \n",
            "643         9.796        12.815        10.440  \n",
            "249         8.431         8.424         9.202  \n",
            "664         6.570         5.928         6.198  \n",
            "874         7.183         8.133         7.037  \n",
            "\n",
            "[750 rows x 46 columns]\n",
            "942        pop\n",
            "962        pop\n",
            "237     reggae\n",
            "914        pop\n",
            "301    country\n",
            "        ...   \n",
            "952        pop\n",
            "643      blues\n",
            "249     reggae\n",
            "664      blues\n",
            "874      metal\n",
            "Name: genre name, Length: 750, dtype: object\n"
          ]
        }
      ],
      "source": [
        "%matplotlib notebook\n",
        "\n",
        "from sklearn.model_selection import train_test_split\n",
        "import matplotlib.pyplot as plt\n",
        "#first parameter is FORM TO number of rows,second parameter is FROM TO nubmer of columns\n",
        "X = dfppt.iloc[:,2:98]\n",
        "print(X)\n",
        "y = dfppt['genre name']\n",
        "\n",
        "#default splitting ratio is 75:25\n",
        "X_train, X_test, y_train, y_test = train_test_split(X, y, random_state=3)\n",
        "print(X_train)\n",
        "print(y_train)"
      ]
    },
    {
      "cell_type": "markdown",
      "source": [
        "##Normalization"
      ],
      "metadata": {
        "id": "zVxgkrdltJ5r"
      }
    },
    {
      "cell_type": "code",
      "execution_count": 15,
      "metadata": {
        "colab": {
          "base_uri": "https://localhost:8080/"
        },
        "id": "S-OZt9w5tYfm",
        "outputId": "0fc325ff-dc05-4d16-f7f4-fe6c7531f3a0"
      },
      "outputs": [
        {
          "output_type": "stream",
          "name": "stdout",
          "text": [
            "[[ 0.99501309  1.1130992   1.13483077 ...  1.41766286  0.68747583\n",
            "  -0.18635832]\n",
            " [ 0.21987955  1.57986084  1.07083575 ... -0.29724938  0.64628448\n",
            "   0.55990599]\n",
            " [-1.86329184 -1.30557473 -1.23252778 ... -1.29765809 -0.35247862\n",
            "  -0.45545734]\n",
            " ...\n",
            " [-0.02234968  1.36769646  0.6050435  ...  0.32437388  0.25420386\n",
            "   0.50765824]\n",
            " [ 0.00187324 -0.24475283 -0.18550245 ... -0.64126959 -1.01509996\n",
            "  -0.88129961]\n",
            " [-1.18504999 -1.00854459 -0.57013056 ... -0.32319359  0.10622012\n",
            "  -0.49337164]]\n",
            "[[-0.09501845 -0.58421584  0.0092707  ...  0.15781205  0.08130189\n",
            "  -0.59046923]\n",
            " [-1.06393538 -1.13584322 -1.93360274 ...  2.7055334   2.61075589\n",
            "   3.97173022]\n",
            " [-1.23349584 -0.41448433 -0.04179207 ... -0.24847426 -0.23348139\n",
            "  -0.62977063]\n",
            " ...\n",
            " [-0.31302476 -1.26314185 -0.99217506 ...  0.41932968 -0.12058657\n",
            "  -0.38101586]\n",
            " [ 0.70433801  1.49499508  0.57027568 ... -0.15040515  0.52525311\n",
            "  -0.53822148]\n",
            " [ 0.07454201 -0.58421584  0.3559954  ... -0.80575588 -0.77456282\n",
            "   0.62741193]]\n"
          ]
        }
      ],
      "source": [
        "#feature scaling operation performing on xtrain and xtest data , inorder to normalize \n",
        "#the data to some range of values .....\n",
        "\n",
        "from sklearn.preprocessing import StandardScaler\n",
        "# why fit_transofmr and transform : https://towardsdatascience.com/what-and-why-behind-fit-transform-vs-transform-in-scikit-learn-78f915cf96fe\n",
        "st_x= StandardScaler()\n",
        "x_train= st_x.fit_transform(X_train)\n",
        "\n",
        "x_test= st_x.transform(X_test)\n",
        "\n",
        "print(x_train)\n",
        "print(x_test)"
      ]
    },
    {
      "cell_type": "markdown",
      "source": [
        "##Training using SVM and checking accuracy"
      ],
      "metadata": {
        "id": "aQExwO6KCD1a"
      }
    },
    {
      "cell_type": "code",
      "source": [
        "#ref: https://scikit-learn.org/stable/modules/generated/sklearn.multiclass.OneVsRestClassifier.html\n",
        "\n",
        "import numpy as np\n",
        "from sklearn.multiclass import OneVsRestClassifier\n",
        "from sklearn.svm import SVC\n",
        "clf = OneVsRestClassifier(SVC()).fit(x_train, y_train)\n",
        "print(\"accuracy is \"+ str(clf.score(x_test,y_test)))"
      ],
      "metadata": {
        "id": "Ej7dzt6AIu3P",
        "colab": {
          "base_uri": "https://localhost:8080/"
        },
        "outputId": "cc4610fc-b48a-4eb7-d979-9115f11df024"
      },
      "execution_count": 16,
      "outputs": [
        {
          "output_type": "stream",
          "name": "stdout",
          "text": [
            "accuracy is 0.684\n"
          ]
        }
      ]
    }
  ],
  "metadata": {
    "colab": {
      "collapsed_sections": [],
      "name": "Music Genre Classification",
      "provenance": []
    },
    "kernelspec": {
      "display_name": "Python 3",
      "name": "python3"
    },
    "language_info": {
      "name": "python"
    }
  },
  "nbformat": 4,
  "nbformat_minor": 0
}