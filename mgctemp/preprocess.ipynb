{
  "cells": [
    {
      "cell_type": "code",
      "execution_count": 1,
      "metadata": {
        "id": "XhEIjH8npV7u"
      },
      "outputs": [],
      "source": [
        "\n",
        "\n",
        "# import os\n",
        "# import numpy as np\n",
        "# import pandas as pd\n",
        "# import librosa\n",
        "# import sys\n",
        "# import matplotlib.pyplot as plt\n",
        "# import librosa.display\n",
        "\n",
        "# import IPython.display as ipd\n",
        "\n",
        "\n",
        "\n",
        "import os\n",
        "import numpy as np\n",
        "import pandas as pd\n",
        "import librosa\n",
        "import sys\n",
        "import matplotlib.pyplot as plt\n",
        "import librosa.display\n",
        "import plotly.express as px\n",
        "from sklearn.decomposition import PCA\n",
        "from fnmatch import fnmatch\n",
        "from sklearn.preprocessing import MinMaxScaler\n",
        "from sklearn.model_selection import train_test_split\n",
        "import matplotlib.pyplot as plt\n",
        "from sklearn.naive_bayes import GaussianNB\n",
        "from sklearn import svm\n",
        "from sklearn.neighbors import KNeighborsClassifier\n",
        "from sklearn import metrics\n",
        "import seaborn as sns\n",
        "from sklearn.metrics import confusion_matrix\n",
        "from sklearn.metrics import classification_report"
      ]
    },
    {
      "cell_type": "code",
      "execution_count": 2,
      "metadata": {
        "colab": {
          "base_uri": "https://localhost:8080/"
        },
        "id": "87dL7SSjpbi7",
        "outputId": "17559b17-9990-4cdd-9c03-f4a98e3fa937"
      },
      "outputs": [
        {
          "name": "stdout",
          "output_type": "stream",
          "text": [
            "          file_name genre_name  zcr_mean  zcr_std  spectral_centroid_mean  \\\n",
            "0    jazz.00002.wav       jazz     0.058    0.030                1064.669   \n",
            "1    jazz.00000.wav       jazz     0.078    0.049                1503.869   \n",
            "2    jazz.00005.wav       jazz     0.058    0.030                1268.325   \n",
            "3    jazz.00004.wav       jazz     0.048    0.023                1039.263   \n",
            "4    jazz.00003.wav       jazz     0.045    0.014                 813.063   \n",
            "..              ...        ...       ...      ...                     ...   \n",
            "995   pop.00097.wav        pop     0.137    0.142                3508.787   \n",
            "996   pop.00091.wav        pop     0.167    0.099                3694.895   \n",
            "997   pop.00095.wav        pop     0.106    0.066                3047.545   \n",
            "998   pop.00096.wav        pop     0.105    0.064                3126.642   \n",
            "999   pop.00090.wav        pop     0.148    0.088                3603.718   \n",
            "\n",
            "     spectral_centroid_std  spectral_rolloff_mean  spectral_rolloff_std  \\\n",
            "0                  401.353               1895.730               698.994   \n",
            "1                  744.699               2799.283              1638.804   \n",
            "2                  535.177               2486.627              1364.557   \n",
            "3                  350.135               1837.458               956.540   \n",
            "4                  304.871               1416.553               661.629   \n",
            "..                     ...                    ...                   ...   \n",
            "995               1511.868               7585.133              2069.428   \n",
            "996                878.763               7867.854              1245.853   \n",
            "997                986.738               7386.155              1879.298   \n",
            "998               1137.499               6932.026              1955.457   \n",
            "999                967.990               7959.674              1267.144   \n",
            "\n",
            "     mfccs_1_mean  mfccs_2_mean  ...  mfccs_11_std  mfccs_12_std  \\\n",
            "0        -256.959       175.359  ...         9.955         8.430   \n",
            "1        -252.073       137.903  ...         6.560         7.686   \n",
            "2        -246.235       120.193  ...        11.471        13.588   \n",
            "3        -270.264       137.613  ...         7.552         9.082   \n",
            "4        -297.320       193.097  ...         7.149        10.045   \n",
            "..            ...           ...  ...           ...           ...   \n",
            "995      -125.479        51.225  ...         9.268         9.137   \n",
            "996        -8.410        42.045  ...         8.103         8.038   \n",
            "997       -36.625        73.060  ...         9.330         8.798   \n",
            "998       -59.029        60.986  ...         8.801         8.038   \n",
            "999       -44.715        55.050  ...         8.651         6.745   \n",
            "\n",
            "     mfccs_13_std  mfccs_14_std  mfccs_15_std  mfccs_16_std  mfccs_17_std  \\\n",
            "0           7.590         8.967         8.381         6.322         7.399   \n",
            "1           6.618         6.418         6.999         7.093         6.414   \n",
            "2          14.408        14.893        16.160        15.137        20.151   \n",
            "3           8.797         8.884         9.927        12.763        13.457   \n",
            "4           8.526         7.184         6.419         6.878         7.389   \n",
            "..            ...           ...           ...           ...           ...   \n",
            "995         8.267         7.422         7.495         8.216         8.393   \n",
            "996         7.295         6.322         7.482         7.428         8.680   \n",
            "997         8.360         8.096         7.075         7.829         8.476   \n",
            "998        10.011        11.364        10.521        13.133        10.988   \n",
            "999         8.310         7.204         7.370         7.286         7.424   \n",
            "\n",
            "     mfccs_18_std  mfccs_19_std  mfccs_20_std  \n",
            "0           6.762         6.437         8.568  \n",
            "1           7.464         7.072         7.064  \n",
            "2          18.246        13.894        14.591  \n",
            "3          12.739        19.828        21.744  \n",
            "4           6.233         7.073         7.505  \n",
            "..            ...           ...           ...  \n",
            "995         8.529         8.641        10.852  \n",
            "996         9.043         9.454         8.117  \n",
            "997         8.535         8.713         9.031  \n",
            "998        10.355        11.313        10.543  \n",
            "999         7.559         7.884         6.431  \n",
            "\n",
            "[1000 rows x 48 columns]\n"
          ]
        }
      ],
      "source": [
        "\n",
        "dfppt = pd.read_csv(r'C:\\Users\\jagad\\Desktop\\mgctemp\\data.csv')\n",
        "print (dfppt)"
      ]
    },
    {
      "cell_type": "code",
      "execution_count": 4,
      "metadata": {
        "colab": {
          "base_uri": "https://localhost:8080/"
        },
        "id": "L4HzEKhypgux",
        "outputId": "34c59583-583b-4a86-c789-38942895e85e"
      },
      "outputs": [],
      "source": [
        "# %matplotlib notebook\n",
        "\n",
        "# from sklearn.model_selection import train_test_split\n",
        "# import matplotlib.pyplot as plt\n",
        "# #first parameter is FORM TO number of rows,second parameter is FROM TO nubmer of columns\n",
        "X = dfppt.iloc[:,2:98]\n",
        "y = dfppt['genre_name']\n",
        "\n",
        "# #default splitting ratio is 75:25\n",
        "# X_train, X_test, y_train, y_test = train_test_split(X, y,test_size=0.23,random_state=3)\n",
        "# print(X_train)\n",
        "# print(y_train)\n",
        "\n",
        "\n",
        "%matplotlib notebook\n",
        "\n",
        "from sklearn.model_selection import train_test_split\n",
        "import matplotlib.pyplot as plt\n",
        "\n",
        "X_train, X_test, y_train, y_test = train_test_split(X, y, test_size=0.12,random_state=3)\n",
        "# print(X_train)\n",
        "# print(y_train)"
      ]
    },
    {
      "cell_type": "code",
      "execution_count": 5,
      "metadata": {
        "colab": {
          "base_uri": "https://localhost:8080/"
        },
        "id": "fi5HQebbpoS1",
        "outputId": "7d097391-0083-41e9-ca93-a1c61006092a"
      },
      "outputs": [],
      "source": [
        "\n",
        "# from sklearn.preprocessing import StandardScaler\n",
        "\n",
        "# st_x= StandardScaler()\n",
        "# x_train= st_x.fit_transform(X_train)\n",
        "# x_test= st_x.transform(X_test)\n",
        "\n",
        "\n",
        "# print(x_train)\n",
        "# print(x_test)\n",
        "\n",
        "\n",
        "from sklearn.preprocessing import MinMaxScaler\n",
        "scaler = MinMaxScaler()\n",
        "X_train_scaled = scaler.fit_transform(X_train)\n",
        "X_test_scaled = scaler.transform(X_test)\n",
        "x_train=X_train_scaled \n",
        "x_test=X_test_scaled\n",
        "#print(X_train)\n",
        "# print(X_test)"
      ]
    },
    {
      "cell_type": "code",
      "execution_count": 6,
      "metadata": {
        "colab": {
          "base_uri": "https://localhost:8080/"
        },
        "id": "ulybe2_rqISp",
        "outputId": "ac7be105-0602-4011-bbae-ece540d68fbf"
      },
      "outputs": [
        {
          "name": "stdout",
          "output_type": "stream",
          "text": [
            "accuracy is  0.7833333333333333\n"
          ]
        }
      ],
      "source": [
        "# from sklearn import svm\n",
        "# clf = svm.SVC(kernel='rbf',probability=True)\n",
        "# clf.fit(x_train,y_train)\n",
        "\n",
        "# print(clf.score(x_test,y_test))\n",
        "\n",
        "\n",
        "from sklearn import svm\n",
        "clfr = svm.SVC(kernel='rbf',C=11,probability=True)\n",
        "\n",
        "clfr.fit(x_train,y_train)\n",
        "\n",
        "print(\"accuracy is \",clfr.score(x_test,y_test))\n"
      ]
    },
    {
      "cell_type": "code",
      "execution_count": 8,
      "metadata": {
        "id": "LXjLkj53t9GE"
      },
      "outputs": [],
      "source": [
        "#scaler = MinMaxScaler()\n",
        "import pickle\n",
        "pick1 = {\n",
        "\n",
        "    'svmp':clfr,\n",
        "    'stx':scaler\n",
        "}\n",
        "pickle.dump( pick1, open( 'models' + \".p\", \"wb\" ) )"
      ]
    },
    {
      "cell_type": "code",
      "execution_count": null,
      "metadata": {},
      "outputs": [],
      "source": [
        "\n",
        "\n",
        "\n",
        "ext=\"/content/drive/MyDrive/ndst.wav\"\n",
        "y, sr = librosa.load(ext, sr = 22050)\n",
        "\n",
        "\n",
        "# ipd.Audio(ext)\n",
        "\n",
        "\n",
        "\n",
        "temp_features=AudioFeatureExtraction(y,[])\n",
        "#print(\"temp_features  \", temp_features)\n",
        "temp_features = np.round(temp_features, decimals=3)\n",
        "temp_flist=np.array(temp_features)\n",
        "#temp_flist=temp_flist.reshape(1,-1)\n",
        "#print(\"temp_flist  \",temp_flist)\n",
        "\n",
        "\n",
        "\n",
        "tempp=scaler.transform([temp_flist])\n",
        "#print(tempp)\n",
        "\n",
        "\n",
        "pred=clfr.predict(tempp)\n",
        "#print(pred)\n",
        "ix=clfr.predict_proba(tempp)\n",
        "\n",
        "#print(ix)\n",
        "\n",
        "jagadlist=['blues','classical','country','disco','hiphop','jazz','metal','pop','reggae','rock']\n",
        "ixx=ix.tolist()\n",
        "ixxx=ixx[0]\n",
        "dictt={}\n",
        "for i in range(0,len(jagadlist)):\n",
        "  dictt[jagadlist[i]]=ixxx[i]\n",
        "\n",
        "#print(dictt)\n",
        "dicttsort={k: v for k, v in sorted(dictt.items(), key=lambda item: item[1])}\n",
        "#print(dicttsort)\n",
        "print(list(dicttsort.keys())[-1])\n",
        "print(list(dicttsort.keys())[-2])\n"
      ]
    }
  ],
  "metadata": {
    "colab": {
      "name": "vsPrjCode",
      "provenance": []
    },
    "kernelspec": {
      "display_name": "Python 3",
      "name": "python3"
    },
    "language_info": {
      "codemirror_mode": {
        "name": "ipython",
        "version": 3
      },
      "file_extension": ".py",
      "mimetype": "text/x-python",
      "name": "python",
      "nbconvert_exporter": "python",
      "pygments_lexer": "ipython3",
      "version": "3.9.5"
    }
  },
  "nbformat": 4,
  "nbformat_minor": 0
}
